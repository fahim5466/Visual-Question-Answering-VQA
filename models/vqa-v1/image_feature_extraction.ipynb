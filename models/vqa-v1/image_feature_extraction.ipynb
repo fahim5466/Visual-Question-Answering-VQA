{
 "cells": [
  {
   "cell_type": "code",
   "execution_count": 1,
   "id": "spiritual-seller",
   "metadata": {},
   "outputs": [],
   "source": [
    "import tensorflow as tf\n",
    "from tensorflow.keras.applications.resnet50 import ResNet50\n",
    "from tensorflow.keras.preprocessing import image\n",
    "from tensorflow.keras.applications.resnet import preprocess_input\n",
    "from tensorflow.keras.callbacks import Callback\n",
    "import numpy as np\n",
    "import os\n",
    "from numpy import savez_compressed, load\n",
    "from matplotlib import pyplot as plt\n",
    "import sys\n",
    "\n",
    "dataset_dir = '/ML/datasets/vqa-v1/images/'"
   ]
  },
  {
   "cell_type": "code",
   "execution_count": null,
   "id": "heavy-channel",
   "metadata": {},
   "outputs": [],
   "source": [
    "#ensure gpu is used and use dynamic memory allocation(otherwise could run out of memory)\n",
    "physical_devices = tf.config.list_physical_devices('GPU')\n",
    "tf.config.experimental.set_memory_growth(physical_devices[0], True)"
   ]
  },
  {
   "cell_type": "code",
   "execution_count": null,
   "id": "demonstrated-merchant",
   "metadata": {},
   "outputs": [],
   "source": [
    "model = ResNet50(weights='imagenet', include_top=False, pooling='max')"
   ]
  },
  {
   "cell_type": "code",
   "execution_count": null,
   "id": "paperback-jerusalem",
   "metadata": {},
   "outputs": [],
   "source": [
    "model.summary()"
   ]
  },
  {
   "cell_type": "code",
   "execution_count": null,
   "id": "multiple-combination",
   "metadata": {},
   "outputs": [],
   "source": [
    "#this function extracts image features from ResNet50 and stores them as numpy arrays on disk\n",
    "def extract_image_features(split, dest):\n",
    "    \n",
    "    filenames = os.listdir(dataset_dir+split)\n",
    "\n",
    "    for i, filename in enumerate(filenames):\n",
    "        print(\"processed\",i+1,\"images\", end=\"\\r\")\n",
    "        img = image.load_img(dataset_dir+split+filename, target_size=(256,256))\n",
    "        img = image.img_to_array(img)\n",
    "        img = np.expand_dims(img, axis=0)\n",
    "        img = preprocess_input(img)\n",
    "        feature = model.predict(img)\n",
    "        np.savez_compressed(dataset_dir+dest+filename[:-4], feature)"
   ]
  },
  {
   "cell_type": "code",
   "execution_count": null,
   "id": "falling-upgrade",
   "metadata": {},
   "outputs": [],
   "source": [
    "extract_image_features('train2014/', 'train_image_features/')\n",
    "extract_image_features('val2014/', 'val_image_features/')"
   ]
  },
  {
   "cell_type": "code",
   "execution_count": null,
   "id": "bibliographic-embassy",
   "metadata": {},
   "outputs": [],
   "source": [
    "a = np.load(dataset_dir+dest+'COCO_train2014_000000000009.npz')\n",
    "a = a['arr_0']\n",
    "#a = tf.convert_to_tensor(a, dtype='float64')\n",
    "print(a.shape)\n",
    "print(a[:,:100])"
   ]
  }
 ],
 "metadata": {
  "kernelspec": {
   "display_name": "Python 3",
   "language": "python",
   "name": "python3"
  },
  "language_info": {
   "codemirror_mode": {
    "name": "ipython",
    "version": 3
   },
   "file_extension": ".py",
   "mimetype": "text/x-python",
   "name": "python",
   "nbconvert_exporter": "python",
   "pygments_lexer": "ipython3",
   "version": "3.7.10"
  }
 },
 "nbformat": 4,
 "nbformat_minor": 5
}
