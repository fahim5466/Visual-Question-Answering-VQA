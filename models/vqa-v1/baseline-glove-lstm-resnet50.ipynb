{
 "cells": [
  {
   "cell_type": "code",
   "execution_count": null,
   "id": "vulnerable-guide",
   "metadata": {},
   "outputs": [],
   "source": [
    "import tensorflow as tf\n",
    "from tensorflow.keras.utils import Sequence, to_categorical, plot_model\n",
    "from tensorflow.keras.preprocessing import image\n",
    "from tensorflow.keras.applications.resnet50 import ResNet50\n",
    "from tensorflow.keras.applications.resnet50 import preprocess_input\n",
    "from tensorflow.keras.models import Model\n",
    "from tensorflow.keras.layers import Input, Dense, Flatten, Concatenate, LSTM\n",
    "from tensorflow.keras import callbacks\n",
    "import math\n",
    "import numpy as np\n",
    "import pandas as pd\n",
    "import string\n",
    "import random\n",
    "import pydot\n",
    "import os\n",
    "dataset_dir = '/ML/datasets/'"
   ]
  },
  {
   "cell_type": "code",
   "execution_count": null,
   "id": "dried-genome",
   "metadata": {},
   "outputs": [],
   "source": [
    "tf.config.list_physical_devices('GPU')"
   ]
  },
  {
   "cell_type": "code",
   "execution_count": null,
   "id": "oriented-dylan",
   "metadata": {},
   "outputs": [],
   "source": [
    "#ensure gpu is used and use dynamic memory allocation(otherwise could run out of memory)\n",
    "physical_devices = tf.config.list_physical_devices('GPU')\n",
    "tf.config.experimental.set_memory_growth(physical_devices[0], True)"
   ]
  },
  {
   "cell_type": "code",
   "execution_count": null,
   "id": "overall-purchase",
   "metadata": {},
   "outputs": [],
   "source": [
    "train_data = pd.read_csv(dataset_dir+'vqa-v1/train_data.csv')\n",
    "\n",
    "train_data"
   ]
  },
  {
   "cell_type": "code",
   "execution_count": null,
   "id": "documentary-richardson",
   "metadata": {},
   "outputs": [],
   "source": [
    "val_data = pd.read_csv(dataset_dir+'vqa-v1/val_data.csv')\n",
    "\n",
    "val_data"
   ]
  },
  {
   "cell_type": "code",
   "execution_count": null,
   "id": "reserved-lucas",
   "metadata": {},
   "outputs": [],
   "source": [
    "train_image_embeddings = dict()\n",
    "directory = dataset_dir+'vqa-v1/images/train_image_features/'\n",
    "files = os.listdir(directory)\n",
    "for i, file in enumerate(files):\n",
    "    #print('processed',i+1,'features',end='\\r')\n",
    "    feature = np.load(directory+file)['arr_0']\n",
    "    name = file[:-4]\n",
    "    train_image_embeddings[name] = feature"
   ]
  },
  {
   "cell_type": "code",
   "execution_count": null,
   "id": "attractive-turner",
   "metadata": {},
   "outputs": [],
   "source": [
    "val_image_embeddings = dict()\n",
    "directory = dataset_dir+'vqa-v1/images/val_image_features/'\n",
    "files = os.listdir(directory)\n",
    "for i, file in enumerate(files):\n",
    "    #print('processed',i+1,'features',end='\\r')\n",
    "    feature = np.load(directory+file)['arr_0']\n",
    "    name = file[:-4]\n",
    "    val_image_embeddings[name] = feature"
   ]
  },
  {
   "cell_type": "code",
   "execution_count": null,
   "id": "encouraging-vitamin",
   "metadata": {},
   "outputs": [],
   "source": [
    "#question feature extraction\n",
    "#glove embeddings\n",
    "\n",
    "glove_embeddings = dict()\n",
    "f = open(dataset_dir+'pre-trained/glove/glove.6B.300d.txt', encoding='utf-8')\n",
    "for line in f:\n",
    "  values = line.split()\n",
    "  word = values[0]\n",
    "  coefs = np.asarray(values[1:], dtype='float64')\n",
    "  glove_embeddings[word] = coefs\n",
    "f.close()\n",
    "\n",
    "print(len(glove_embeddings))\n",
    "print(glove_embeddings['king'][:50])"
   ]
  },
  {
   "cell_type": "code",
   "execution_count": null,
   "id": "realistic-motivation",
   "metadata": {},
   "outputs": [],
   "source": [
    "#answer feature extraction\n",
    "answers = list(pd.unique(train_data['answ']))\n",
    "random.shuffle(answers)\n",
    "print(len(answers))\n",
    "print(answers[:100])"
   ]
  },
  {
   "cell_type": "code",
   "execution_count": null,
   "id": "integrated-generation",
   "metadata": {},
   "outputs": [],
   "source": [
    "class datagen(Sequence):\n",
    "    \n",
    "    def __init__(self, dataframe, split, batch_size, predict_mode=False):\n",
    "        \n",
    "        self.dataframe = dataframe\n",
    "        self.split = split\n",
    "        self.batch_size = batch_size\n",
    "        self.predict_mode = predict_mode\n",
    "        \n",
    "    def __len__(self):\n",
    "        return math.ceil(len(self.dataframe) / self.batch_size)\n",
    "        \n",
    "    def __getitem__(self, ind):\n",
    "        \n",
    "        #print('Starting batch',ind)\n",
    "        \n",
    "        partial_dataframe = self.dataframe[ind * self.batch_size : (ind + 1) * self.batch_size]\n",
    "        \n",
    "        img_path = list(partial_dataframe['im_path'])\n",
    "        ques = list(partial_dataframe['ques'])\n",
    "        if not self.predict_mode:\n",
    "            ans = list(partial_dataframe['answ'])\n",
    "        \n",
    "        image_features = self.get_img_feature(img_path)\n",
    "        question_features = self.get_ques_feature(ques)\n",
    "\n",
    "        if not self.predict_mode:\n",
    "            answer_features = self.get_ans_feature(ans)\n",
    "        \n",
    "        x = (image_features, question_features)\n",
    "        if not self.predict_mode:\n",
    "            y = answer_features\n",
    "        \n",
    "        #print('Finished batch',ind+1)\n",
    "        \n",
    "        if self.predict_mode:\n",
    "            return x, \n",
    "        else:\n",
    "            return x, y\n",
    "    \n",
    "    def get_img_feature(self, img_path):\n",
    "        \n",
    "        #print('getting image feature')\n",
    "        \n",
    "        if self.split == 'train':\n",
    "            image_embeddings = train_image_embeddings\n",
    "        else:\n",
    "            image_embeddings = val_image_embeddings\n",
    "        \n",
    "        r = np.ndarray((len(img_path), 2048), dtype='float32')\n",
    "        \n",
    "        for i, path in enumerate(img_path):\n",
    "            img = image_embeddings[path[:-4]]\n",
    "            r[i] = img\n",
    "            \n",
    "        return r\n",
    "    \n",
    "    def get_ques_feature(self, ques):\n",
    "        \n",
    "        #print('getting question feature')\n",
    "        \n",
    "        r = np.zeros((len(ques), 15, 300), dtype='float32')\n",
    "        default = np.zeros((300), dtype='float32')\n",
    "        \n",
    "        for i, q in enumerate(ques):\n",
    "            \n",
    "            table = str.maketrans(dict.fromkeys(string.punctuation))\n",
    "            q = q.translate(table).lower()\n",
    "            words = q.split()[:15]\n",
    "            e = [glove_embeddings.get(w, default) for w in words]\n",
    "            r[i,:len(e)] = e\n",
    "            \n",
    "        return r\n",
    "    \n",
    "    def get_ans_feature(self, ans):\n",
    "        \n",
    "        #print('getting answer feature')\n",
    "        \n",
    "        r = np.zeros((len(ans), 3000), dtype='float32')\n",
    "        \n",
    "        for i, a in enumerate(ans):\n",
    "            ind = answers.index(a)\n",
    "            r[i][ind] = 1.0\n",
    "            \n",
    "        return r\n",
    "    \n",
    "    def on_epoch_end(self):\n",
    "        \n",
    "        self.dataframe = self.dataframe.sample(frac = 1) "
   ]
  },
  {
   "cell_type": "code",
   "execution_count": null,
   "id": "neither-gospel",
   "metadata": {},
   "outputs": [],
   "source": [
    "'''\n",
    "mask = train_data['ques'].str.startswith(\"What animal\")\n",
    "\n",
    "train_data_whatanimal = train_data[mask]\n",
    "print(len(train_data_whatanimal))\n",
    "\n",
    "test_data_whatanimal = train_data_whatanimal.loc[[768]]\n",
    "\n",
    "train_data_whatanimal = train_data_whatanimal.drop([768])\n",
    "print(len(train_data_whatanimal))\n",
    "\n",
    "#train_data_whatanimal.loc[[768]]\n",
    "'''"
   ]
  },
  {
   "cell_type": "code",
   "execution_count": null,
   "id": "comparable-window",
   "metadata": {},
   "outputs": [],
   "source": [
    "batch_size = 512\n",
    "\n",
    "train_datagen = datagen(train_data, 'train', batch_size=batch_size)\n",
    "'''\n",
    "for x in train_datagen:\n",
    "    \n",
    "    print('image features')\n",
    "    print(x[0][0][0].shape)\n",
    "    print(x[0][0][0])\n",
    "        \n",
    "    print('question features')\n",
    "    print(x[0][1][0].shape)\n",
    "    print(x[0][1][0])\n",
    "        \n",
    "    print('answer features')\n",
    "    print(x[1][0].shape)\n",
    "    print(x[1][0])\n",
    "    break\n",
    "'''\n",
    "\n",
    "val_datagen = datagen(val_data, 'val', batch_size=batch_size)"
   ]
  },
  {
   "cell_type": "code",
   "execution_count": null,
   "id": "czech-retention",
   "metadata": {},
   "outputs": [],
   "source": [
    "input1 = Input(shape=(2048), dtype='float32', name='image_input')\n",
    "\n",
    "input2 = Input(shape=(15, 300), dtype='float32', name='question_input')\n",
    "#flattened = Flatten(dtype='float32', name='flatten_question')(input2)\n",
    "\n",
    "#img_encode = Dense(512, activation='relu', dtype='float32', name='img_encode')(input1)\n",
    "ques_encode = LSTM(512, name='ques_encode')(input2)\n",
    "\n",
    "concatenated = Concatenate(dtype='float32', name='concatenate')([input1, ques_encode])\n",
    "\n",
    "fc1 = Dense(512, activation='relu', dtype='float32', name='fc1')(concatenated)\n",
    "fc2 = Dense(512, activation='relu', dtype='float32', name='fc2')(fc1)\n",
    "output = Dense(3000, activation='softmax', dtype='float32', name='classification')(fc2)\n",
    "\n",
    "model = Model(inputs=[input1,input2], outputs=output)"
   ]
  },
  {
   "cell_type": "code",
   "execution_count": null,
   "id": "careful-basis",
   "metadata": {},
   "outputs": [],
   "source": [
    "model.summary()"
   ]
  },
  {
   "cell_type": "code",
   "execution_count": null,
   "id": "phantom-lemon",
   "metadata": {},
   "outputs": [],
   "source": [
    "plot_model(model)"
   ]
  },
  {
   "cell_type": "code",
   "execution_count": null,
   "id": "acute-teach",
   "metadata": {
    "scrolled": true
   },
   "outputs": [],
   "source": [
    "model.compile(\n",
    "    optimizer=tf.keras.optimizers.Adam(learning_rate=0.00005),\n",
    "    loss = 'categorical_crossentropy',\n",
    "    metrics = ['accuracy']\n",
    ")\n",
    "\n",
    "checkpoint_filepath = dataset_dir+'vqa-v1/weights.hdf5'\n",
    "\n",
    "model_checkpoint_callback = callbacks.ModelCheckpoint(\n",
    "    filepath=checkpoint_filepath,\n",
    "    save_weights_only=True,\n",
    "    monitor='val_accuracy',\n",
    "    mode='max',\n",
    "    save_best_only=True)\n",
    "\n",
    "history = model.fit(\n",
    "    train_datagen, \n",
    "    epochs = 200,\n",
    "    validation_data = val_datagen,\n",
    "    callbacks = [model_checkpoint_callback]\n",
    ")"
   ]
  },
  {
   "cell_type": "code",
   "execution_count": null,
   "id": "headed-quantity",
   "metadata": {},
   "outputs": [],
   "source": [
    "'''\n",
    "test_datagen = datagen(test_data_whatanimal, 'train2014', batch_size=32, predict_mode=True)\n",
    "test_output = model.predict(test_datagen)\n",
    "answers[np.argmax(test_output)]\n",
    "'''"
   ]
  },
  {
   "cell_type": "code",
   "execution_count": null,
   "id": "according-cabinet",
   "metadata": {},
   "outputs": [],
   "source": [
    "model.load_weights(checkpoint_filepath)"
   ]
  }
 ],
 "metadata": {
  "kernelspec": {
   "display_name": "Python 3",
   "language": "python",
   "name": "python3"
  },
  "language_info": {
   "codemirror_mode": {
    "name": "ipython",
    "version": 3
   },
   "file_extension": ".py",
   "mimetype": "text/x-python",
   "name": "python",
   "nbconvert_exporter": "python",
   "pygments_lexer": "ipython3",
   "version": "3.7.10"
  }
 },
 "nbformat": 4,
 "nbformat_minor": 5
}
